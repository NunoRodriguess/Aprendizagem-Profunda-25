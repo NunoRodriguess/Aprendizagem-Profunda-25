{
 "cells": [
  {
   "cell_type": "markdown",
   "metadata": {},
   "source": [
    "# Gerar a output para o professor"
   ]
  },
  {
   "cell_type": "code",
   "execution_count": 1,
   "metadata": {},
   "outputs": [],
   "source": [
    "from data import read_csv\n",
    "import numpy as np\n",
    "import os\n",
    "import random\n",
    "\n",
    "def set_seed(seed: int):\n",
    "    random.seed(seed) # Python\n",
    "    np.random.seed(seed)  # Numpy, é o gerador utilizado pelo sklearn\n",
    "    os.environ[\"PYTHONHASHSEED\"] = str(seed)  # sistema operativo\n",
    "set_seed(25)"
   ]
  },
  {
   "cell_type": "code",
   "execution_count": 2,
   "metadata": {},
   "outputs": [],
   "source": [
    "# Load ao dataset ( já no formato bag of words 10k)\n",
    "dataset_stor = read_csv('input_prof.csv', sep=',', features=True, label=False)"
   ]
  },
  {
   "cell_type": "code",
   "execution_count": 3,
   "metadata": {},
   "outputs": [],
   "source": [
    "# Load do modelo\n",
    "import pickle\n",
    "\n",
    "# Load the trained model\n",
    "with open('trained_model1.pkl', 'rb') as f:\n",
    "    net = pickle.load(f)\n"
   ]
  },
  {
   "cell_type": "code",
   "execution_count": 4,
   "metadata": {},
   "outputs": [],
   "source": [
    "binary_conv = {0: \"Human\", 1: \"AI\"}\n",
    "\n",
    "# Get predictions\n",
    "out = net.predict(dataset_stor, binary=True)\n",
    "\n",
    "# Convert numerical predictions to labels\n",
    "out_labels = np.vectorize(binary_conv.get)(out)\n",
    "\n",
    "# Create row IDs (D1-1, D1-2, ..., D1-N)\n",
    "num_samples = len(out_labels)\n",
    "ids = [f\"D1-{i+1}\" for i in range(num_samples)]\n",
    "\n",
    "# Stack IDs and labels into a single 2D array\n",
    "output_array = np.column_stack((ids, out_labels))\n",
    "\n",
    "# Save to file with header\n",
    "np.savetxt('dataset1_outputs1_grupo.csv', output_array, delimiter='\\t', fmt='%s', header=\"ID\\tLabel\", comments='')"
   ]
  }
 ],
 "metadata": {
  "kernelspec": {
   "display_name": "Python 3",
   "language": "python",
   "name": "python3"
  },
  "language_info": {
   "codemirror_mode": {
    "name": "ipython",
    "version": 3
   },
   "file_extension": ".py",
   "mimetype": "text/x-python",
   "name": "python",
   "nbconvert_exporter": "python",
   "pygments_lexer": "ipython3",
   "version": "3.11.9"
  }
 },
 "nbformat": 4,
 "nbformat_minor": 2
}
